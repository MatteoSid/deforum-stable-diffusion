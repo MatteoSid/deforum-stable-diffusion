{
 "cells": [
  {
   "cell_type": "code",
   "execution_count": null,
   "metadata": {},
   "outputs": [],
   "source": [
    "from PIL import Image\n",
    "from pathlib import Path\n",
    "import os\n",
    "\n",
    "image_folder = 'C:/Users/matte/Documents/GitHub/Real-ESRGAN/monk2_mj' #usare \"/\" al posto di \"\\\"\n",
    "destination_folder = Path(\"GIFs\")\n",
    "destination_folder.mkdir(exist_ok=True)\n",
    "\n",
    "image_files = [os.path.join(image_folder,img)\n",
    "               for img in os.listdir(image_folder)\n",
    "               if img.endswith(\".png\")]\n",
    "\n",
    "images = [Image.open(x) for x in image_files]\n",
    "\n",
    "\n",
    "images[0].save(f'GIFs/{image_folder.split(\"/\")[-1]}.gif', save_all=True, append_images=images[1:], optimize=False, duration=30, loop=0)"
   ]
  }
 ],
 "metadata": {
  "kernelspec": {
   "display_name": "Python 3.10.8 ('venv': venv)",
   "language": "python",
   "name": "python3"
  },
  "language_info": {
   "codemirror_mode": {
    "name": "ipython",
    "version": 3
   },
   "file_extension": ".py",
   "mimetype": "text/x-python",
   "name": "python",
   "nbconvert_exporter": "python",
   "pygments_lexer": "ipython3",
   "version": "3.10.8"
  },
  "orig_nbformat": 4,
  "vscode": {
   "interpreter": {
    "hash": "0233ae71068dcb08607b3202fc2402a762a15f76ad151919edf60f544aee822a"
   }
  }
 },
 "nbformat": 4,
 "nbformat_minor": 2
}
